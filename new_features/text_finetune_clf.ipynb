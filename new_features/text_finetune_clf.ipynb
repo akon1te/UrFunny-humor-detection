{
 "cells": [
  {
   "cell_type": "code",
   "execution_count": 1,
   "metadata": {},
   "outputs": [],
   "source": [
    "import numpy as np\n",
    "from pathlib import Path\n",
    "\n",
    "import torch\n",
    "import torch.nn as nn\n",
    "from transformers import AutoTokenizer, AutoModelForSequenceClassification, DataCollatorWithPadding\n",
    "from transformers import TrainingArguments, Trainer\n",
    "from datasets import Dataset, load_metric\n",
    "import evaluate\n",
    "\n",
    "from scripts.tools import load_pickle\n",
    "\n",
    "import matplotlib.pyplot as plt\n",
    "from typing import Tuple, List, Dict\n",
    "from tqdm import tqdm\n",
    "\n",
    "device = torch.device('cuda' if torch.cuda.is_available() else 'cpu')\n",
    "DATA_PATH = Path('../data/')\n",
    "random_seed = 54"
   ]
  },
  {
   "cell_type": "code",
   "execution_count": 2,
   "metadata": {},
   "outputs": [],
   "source": [
    "origin_text = load_pickle(DATA_PATH / \"language_sdk.pkl\")\n",
    "preprocessed_text = []\n",
    "for idx in origin_text:\n",
    "    language_feats = origin_text[idx]['context_sentences'] + \\\n",
    "        [origin_text[idx]['punchline_sentence']]\n",
    "    language_feats = list(\n",
    "        map(lambda i: ' ' + language_feats[i], range(0, len(language_feats))))\n",
    "    language_feats = '.'.join(language_feats)\n",
    "    preprocessed_text.append(language_feats[1::])\n",
    "\n",
    "target_dict = load_pickle(DATA_PATH / \"humor_label_sdk.pkl\")\n",
    "target = list(target_dict.values())\n",
    "\n",
    "hug_dataset = Dataset.from_dict({'text' : preprocessed_text, 'label': target})"
   ]
  },
  {
   "cell_type": "code",
   "execution_count": 3,
   "metadata": {},
   "outputs": [
    {
     "data": {
      "application/vnd.jupyter.widget-view+json": {
       "model_id": "fa0e504c5965411f8281bc7e8f3ace99",
       "version_major": 2,
       "version_minor": 0
      },
      "text/plain": [
       "Map:   0%|          | 0/10166 [00:00<?, ? examples/s]"
      ]
     },
     "metadata": {},
     "output_type": "display_data"
    }
   ],
   "source": [
    "tokenizer = AutoTokenizer.from_pretrained(\"roberta-base\")\n",
    "data_collator = DataCollatorWithPadding(tokenizer=tokenizer)\n",
    "\n",
    "def tokenize_function(sample):\n",
    "    return tokenizer(sample[\"text\"], padding=True, truncation=True)\n",
    "\n",
    "tokenized_datasets = hug_dataset.map(tokenize_function, batched=True)\n",
    "\n",
    "dataset = tokenized_datasets.train_test_split(test_size=0.3, seed=random_seed)"
   ]
  },
  {
   "cell_type": "code",
   "execution_count": 4,
   "metadata": {},
   "outputs": [
    {
     "data": {
      "text/plain": [
       "DatasetDict({\n",
       "    train: Dataset({\n",
       "        features: ['text', 'label', 'input_ids', 'attention_mask'],\n",
       "        num_rows: 7116\n",
       "    })\n",
       "    test: Dataset({\n",
       "        features: ['text', 'label', 'input_ids', 'attention_mask'],\n",
       "        num_rows: 3050\n",
       "    })\n",
       "})"
      ]
     },
     "execution_count": 4,
     "metadata": {},
     "output_type": "execute_result"
    }
   ],
   "source": [
    "dataset"
   ]
  },
  {
   "cell_type": "code",
   "execution_count": 5,
   "metadata": {},
   "outputs": [
    {
     "data": {
      "application/vnd.jupyter.widget-view+json": {
       "model_id": "0597a67f76d2482b9c433109b383e311",
       "version_major": 2,
       "version_minor": 0
      },
      "text/plain": [
       "Saving the dataset (0/1 shards):   0%|          | 0/7116 [00:00<?, ? examples/s]"
      ]
     },
     "metadata": {},
     "output_type": "display_data"
    },
    {
     "data": {
      "application/vnd.jupyter.widget-view+json": {
       "model_id": "aef19aafe3b143b6a37b79eea09b4846",
       "version_major": 2,
       "version_minor": 0
      },
      "text/plain": [
       "Saving the dataset (0/1 shards):   0%|          | 0/3050 [00:00<?, ? examples/s]"
      ]
     },
     "metadata": {},
     "output_type": "display_data"
    }
   ],
   "source": [
    "dataset.save_to_disk(\"../data/tokenized_text_ds\")"
   ]
  },
  {
   "cell_type": "code",
   "execution_count": 6,
   "metadata": {},
   "outputs": [],
   "source": [
    "accuracy = evaluate.load(\"accuracy\")\n",
    "\n",
    "def compute_metrics(eval_pred):\n",
    "    predictions, labels = eval_pred\n",
    "    predictions = np.argmax(predictions, axis=1)\n",
    "    return accuracy.compute(predictions=predictions, references=labels)\n",
    "\n",
    "id2label = {0: \"NONHUMOR\", 1: \"HUMOR\"}\n",
    "label2id = {\"NONHUMOR\": 0, \"HUMOR\": 1}"
   ]
  },
  {
   "cell_type": "code",
   "execution_count": 7,
   "metadata": {},
   "outputs": [
    {
     "data": {
      "application/vnd.jupyter.widget-view+json": {
       "model_id": "7f4670be01504254966a3986c14b8095",
       "version_major": 2,
       "version_minor": 0
      },
      "text/plain": [
       "Downloading model.safetensors:   0%|          | 0.00/499M [00:00<?, ?B/s]"
      ]
     },
     "metadata": {},
     "output_type": "display_data"
    }
   ],
   "source": [
    "from transformers import AutoModelForSequenceClassification, TrainingArguments, Trainer\n",
    "\n",
    "model = AutoModelForSequenceClassification.from_pretrained(\n",
    "    \"roberta-base\", num_labels=2, id2label=id2label, label2id=label2id\n",
    ")\n",
    "\n",
    "training_args = TrainingArguments(\n",
    "    output_dir=\"../models/text_roberta_train\",\n",
    "    learning_rate=2e-5,\n",
    "    per_device_train_batch_size=8,\n",
    "    per_device_eval_batch_size=16,\n",
    "    num_train_epochs=5,\n",
    "    weight_decay=0.01,\n",
    "    evaluation_strategy=\"epoch\",\n",
    "    save_strategy=\"epoch\",\n",
    "    load_best_model_at_end=True,\n",
    ")\n",
    "\n",
    "trainer = Trainer(\n",
    "    model=model,\n",
    "    args=training_args,\n",
    "    train_dataset=dataset['train'],\n",
    "    eval_dataset=dataset['test'],\n",
    "    tokenizer=tokenizer,\n",
    "    data_collator=data_collator,\n",
    "    compute_metrics=compute_metrics,\n",
    ")"
   ]
  },
  {
   "cell_type": "code",
   "execution_count": null,
   "metadata": {},
   "outputs": [
    {
     "data": {
      "application/vnd.jupyter.widget-view+json": {
       "model_id": "c696f1ab338c4bfa891557e76e327067",
       "version_major": 2,
       "version_minor": 0
      },
      "text/plain": [
       "  0%|          | 0/4450 [00:00<?, ?it/s]"
      ]
     },
     "metadata": {},
     "output_type": "display_data"
    },
    {
     "name": "stderr",
     "output_type": "stream",
     "text": [
      "You're using a RobertaTokenizerFast tokenizer. Please note that with a fast tokenizer, using the `__call__` method is faster than using a method to encode the text followed by a call to the `pad` method to get a padded encoding.\n"
     ]
    },
    {
     "name": "stdout",
     "output_type": "stream",
     "text": [
      "{'loss': 0.677, 'learning_rate': 1.7752808988764045e-05, 'epoch': 0.56}\n"
     ]
    },
    {
     "data": {
      "application/vnd.jupyter.widget-view+json": {
       "model_id": "2d467dc0206b489f82ad92b4b1f2cf90",
       "version_major": 2,
       "version_minor": 0
      },
      "text/plain": [
       "  0%|          | 0/191 [00:00<?, ?it/s]"
      ]
     },
     "metadata": {},
     "output_type": "display_data"
    },
    {
     "name": "stdout",
     "output_type": "stream",
     "text": [
      "{'eval_loss': 0.603458046913147, 'eval_accuracy': 0.7137704918032787, 'eval_runtime': 34.5465, 'eval_samples_per_second': 88.287, 'eval_steps_per_second': 5.529, 'epoch': 1.0}\n",
      "{'loss': 0.5764, 'learning_rate': 1.5505617977528093e-05, 'epoch': 1.12}\n",
      "{'loss': 0.5096, 'learning_rate': 1.3258426966292135e-05, 'epoch': 1.69}\n"
     ]
    },
    {
     "data": {
      "application/vnd.jupyter.widget-view+json": {
       "model_id": "0479389837594a90b18c9aa62d4007c5",
       "version_major": 2,
       "version_minor": 0
      },
      "text/plain": [
       "  0%|          | 0/191 [00:00<?, ?it/s]"
      ]
     },
     "metadata": {},
     "output_type": "display_data"
    },
    {
     "name": "stdout",
     "output_type": "stream",
     "text": [
      "{'eval_loss': 0.6859983205795288, 'eval_accuracy': 0.6950819672131148, 'eval_runtime': 123.0709, 'eval_samples_per_second': 24.782, 'eval_steps_per_second': 1.552, 'epoch': 2.0}\n",
      "{'loss': 0.4208, 'learning_rate': 1.101123595505618e-05, 'epoch': 2.25}\n",
      "{'loss': 0.4042, 'learning_rate': 8.764044943820226e-06, 'epoch': 2.81}\n"
     ]
    },
    {
     "data": {
      "application/vnd.jupyter.widget-view+json": {
       "model_id": "1d3fc6d6c4c54e2db62cd8fc184b560d",
       "version_major": 2,
       "version_minor": 0
      },
      "text/plain": [
       "  0%|          | 0/191 [00:00<?, ?it/s]"
      ]
     },
     "metadata": {},
     "output_type": "display_data"
    },
    {
     "name": "stdout",
     "output_type": "stream",
     "text": [
      "{'eval_loss': 0.6867533922195435, 'eval_accuracy': 0.7180327868852459, 'eval_runtime': 115.7802, 'eval_samples_per_second': 26.343, 'eval_steps_per_second': 1.65, 'epoch': 3.0}\n",
      "{'loss': 0.3079, 'learning_rate': 6.51685393258427e-06, 'epoch': 3.37}\n",
      "{'loss': 0.2707, 'learning_rate': 4.269662921348315e-06, 'epoch': 3.93}\n"
     ]
    },
    {
     "data": {
      "application/vnd.jupyter.widget-view+json": {
       "model_id": "a20472be99684e36a57ddff86a663218",
       "version_major": 2,
       "version_minor": 0
      },
      "text/plain": [
       "  0%|          | 0/191 [00:00<?, ?it/s]"
      ]
     },
     "metadata": {},
     "output_type": "display_data"
    },
    {
     "name": "stdout",
     "output_type": "stream",
     "text": [
      "{'eval_loss': 1.2281357049942017, 'eval_accuracy': 0.7245901639344262, 'eval_runtime': 62.856, 'eval_samples_per_second': 48.524, 'eval_steps_per_second': 3.039, 'epoch': 4.0}\n",
      "{'loss': 0.1868, 'learning_rate': 2.02247191011236e-06, 'epoch': 4.49}\n"
     ]
    },
    {
     "data": {
      "application/vnd.jupyter.widget-view+json": {
       "model_id": "0b1f026399cd426ca33f46f6058070bc",
       "version_major": 2,
       "version_minor": 0
      },
      "text/plain": [
       "  0%|          | 0/191 [00:00<?, ?it/s]"
      ]
     },
     "metadata": {},
     "output_type": "display_data"
    },
    {
     "name": "stdout",
     "output_type": "stream",
     "text": [
      "{'eval_loss': 1.3986605405807495, 'eval_accuracy': 0.72, 'eval_runtime': 124.6546, 'eval_samples_per_second': 24.468, 'eval_steps_per_second': 1.532, 'epoch': 5.0}\n",
      "{'train_runtime': 2740.0924, 'train_samples_per_second': 12.985, 'train_steps_per_second': 1.624, 'train_loss': 0.3965918620248859, 'epoch': 5.0}\n"
     ]
    },
    {
     "data": {
      "text/plain": [
       "TrainOutput(global_step=4450, training_loss=0.3965918620248859, metrics={'train_runtime': 2740.0924, 'train_samples_per_second': 12.985, 'train_steps_per_second': 1.624, 'train_loss': 0.3965918620248859, 'epoch': 5.0})"
      ]
     },
     "execution_count": 7,
     "metadata": {},
     "output_type": "execute_result"
    }
   ],
   "source": [
    "trainer.train()"
   ]
  },
  {
   "cell_type": "code",
   "execution_count": 10,
   "metadata": {},
   "outputs": [
    {
     "data": {
      "application/vnd.jupyter.widget-view+json": {
       "model_id": "d9a01523554749d99f2992cde6ddfd44",
       "version_major": 2,
       "version_minor": 0
      },
      "text/plain": [
       "  0%|          | 0/191 [00:00<?, ?it/s]"
      ]
     },
     "metadata": {},
     "output_type": "display_data"
    }
   ],
   "source": [
    "predicts = trainer.predict(dataset['test'])"
   ]
  },
  {
   "cell_type": "code",
   "execution_count": 48,
   "metadata": {},
   "outputs": [
    {
     "data": {
      "text/plain": [
       "PredictionOutput(predictions=array([[-0.5658703 ,  0.5864019 ],\n",
       "       [-0.54844016,  0.59570825],\n",
       "       [ 0.92058486, -1.3433995 ],\n",
       "       ...,\n",
       "       [ 0.9962201 , -1.3151264 ],\n",
       "       [-0.5779434 ,  0.6401772 ],\n",
       "       [ 0.2349451 , -0.40068248]], dtype=float32), label_ids=array([1, 1, 1, ..., 0, 1, 1], dtype=int64), metrics={'test_loss': 0.603458046913147, 'test_accuracy': 0.7137704918032787, 'test_runtime': 204.0085, 'test_samples_per_second': 14.95, 'test_steps_per_second': 0.936})"
      ]
     },
     "execution_count": 48,
     "metadata": {},
     "output_type": "execute_result"
    }
   ],
   "source": [
    "predicts"
   ]
  },
  {
   "cell_type": "code",
   "execution_count": 23,
   "metadata": {},
   "outputs": [],
   "source": [
    "labels = predicts[1]"
   ]
  },
  {
   "cell_type": "code",
   "execution_count": 25,
   "metadata": {},
   "outputs": [],
   "source": [
    "predicted_probs = torch.softmax(torch.tensor(predicts[0]), -1)\n",
    "predicted_classes = torch.argmax(predicted_probs, -1)"
   ]
  },
  {
   "cell_type": "code",
   "execution_count": 41,
   "metadata": {},
   "outputs": [
    {
     "name": "stdout",
     "output_type": "stream",
     "text": [
      "Accuracy: 0.7137704918032787\n",
      "\n",
      "Precision: 0.705632949727438\n",
      "\n",
      "Recall: 0.7506443298969072\n",
      "\n"
     ]
    },
    {
     "data": {
      "text/plain": [
       "<sklearn.metrics._plot.confusion_matrix.ConfusionMatrixDisplay at 0x19078d75f40>"
      ]
     },
     "execution_count": 41,
     "metadata": {},
     "output_type": "execute_result"
    },
    {
     "data": {
      "image/png": "[encoded data removed]",
      "text/plain": [
       "<Figure size 640x480 with 2 Axes>"
      ]
     },
     "metadata": {},
     "output_type": "display_data"
    }
   ],
   "source": [
    "from sklearn.metrics import accuracy_score, precision_score, recall_score, confusion_matrix, ConfusionMatrixDisplay\n",
    "\n",
    "print(f\"Accuracy: {accuracy_score(labels, predicted_classes)}\\n\")\n",
    "print(f\"Precision: {precision_score(labels, predicted_classes)}\\n\")\n",
    "print(f\"Recall: {recall_score(labels, predicted_classes)}\\n\")\n",
    "cnf = confusion_matrix(labels, predicted_classes)\n",
    "cnf_disp = ConfusionMatrixDisplay(confusion_matrix=cnf, display_labels=['No humor', 'Humor'])\n",
    "cnf_disp.plot()"
   ]
  },
  {
   "cell_type": "code",
   "execution_count": 42,
   "metadata": {},
   "outputs": [
    {
     "data": {
      "text/plain": [
       "tensor([[0.2401, 0.7599],\n",
       "        [0.2416, 0.7584],\n",
       "        [0.9059, 0.0942],\n",
       "        ...,\n",
       "        [0.9098, 0.0902],\n",
       "        [0.2283, 0.7717],\n",
       "        [0.6538, 0.3462]])"
      ]
     },
     "execution_count": 42,
     "metadata": {},
     "output_type": "execute_result"
    }
   ],
   "source": [
    "predicted_probs"
   ]
  },
  {
   "cell_type": "code",
   "execution_count": 43,
   "metadata": {},
   "outputs": [],
   "source": [
    "torch.save(predicted_probs, 'predicted_probs_text.pt')"
   ]
  },
  {
   "cell_type": "code",
   "execution_count": 51,
   "metadata": {},
   "outputs": [],
   "source": [
    "model.save_pretrained(\"../models/text_roberta_train/best_model\")"
   ]
  }
 ],
 "metadata": {
  "kernelspec": {
   "display_name": "course_paper",
   "language": "python",
   "name": "python3"
  },
  "language_info": {
   "codemirror_mode": {
    "name": "ipython",
    "version": 3
   },
   "file_extension": ".py",
   "mimetype": "text/x-python",
   "name": "python",
   "nbconvert_exporter": "python",
   "pygments_lexer": "ipython3",
   "version": "3.11.3"
  },
  "orig_nbformat": 4
 },
 "nbformat": 4,
 "nbformat_minor": 2
}
