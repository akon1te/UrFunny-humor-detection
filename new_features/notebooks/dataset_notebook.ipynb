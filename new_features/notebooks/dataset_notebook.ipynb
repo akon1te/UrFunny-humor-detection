{
 "cells": [
  {
   "cell_type": "code",
   "execution_count": 58,
   "metadata": {},
   "outputs": [],
   "source": [
    "import pickle\n",
    "import numpy as np\n",
    "from pathlib import Path\n",
    "from torch.utils.data import Dataset\n",
    "from moviepy.editor import *\n",
    "from typing import Tuple, Dict"
   ]
  },
  {
   "cell_type": "code",
   "execution_count": 59,
   "metadata": {},
   "outputs": [],
   "source": [
    "VIDEO_PATH = Path('../data') / 'urfunny2_video'\n",
    "AUDIO_PATH = Path('../data') / 'urfunny2_audio'\n",
    "DATA_PATH = Path('../data/')"
   ]
  },
  {
   "cell_type": "code",
   "execution_count": null,
   "metadata": {},
   "outputs": [],
   "source": [
    "target_dict = load_pickle(DATA_PATH / \"humor_label_sdk.pkl\")\n",
    "for idx in target_dict.keys():\n",
    "    video = VideoFileClip(f'../data/urfunny2_video/{idx}.mp4')\n",
    "    video.audio.write_audiofile(f'../data/urfunny2_audio/{idx}.mp3')\n"
   ]
  },
  {
   "cell_type": "code",
   "execution_count": 60,
   "metadata": {},
   "outputs": [],
   "source": [
    "def load_pickle(pickle_file) -> Dict:\n",
    "    try:\n",
    "        with open(pickle_file, 'rb') as f:\n",
    "            pickle_data = pickle.load(f)\n",
    "    except UnicodeDecodeError as e:\n",
    "        with open(pickle_file, 'rb') as f:\n",
    "            pickle_data = pickle.load(f, encoding='latin1')\n",
    "    except Exception as e:\n",
    "        print('Unable to load data ', pickle_file, ':', e)\n",
    "        raise\n",
    "    return pickle_data"
   ]
  },
  {
   "cell_type": "code",
   "execution_count": 128,
   "metadata": {},
   "outputs": [],
   "source": [
    "class HumorDataset(Dataset):\n",
    "\n",
    "    def __init__(self):\n",
    "\n",
    "        self.origin_text = load_pickle(DATA_PATH / \"language_sdk.pkl\")\n",
    "        self.preprocessed_text = []\n",
    "        for idx in self.origin_text:\n",
    "            language_feats = self.origin_text[idx]['context_sentences'] + \\\n",
    "                [self.origin_text[idx]['punchline_sentence']]\n",
    "            language_feats = list(\n",
    "                map(lambda i: ' ' + language_feats[i], range(0, len(language_feats))))\n",
    "            language_feats = '.'.join(language_feats)\n",
    "            self.preprocessed_text.append(language_feats)\n",
    "\n",
    "        target_dict = load_pickle(DATA_PATH / \"humor_label_sdk.pkl\")\n",
    "        self.video = [VIDEO_PATH / f'{idx}.mp4' for idx in target_dict.keys()]\n",
    "        self.audio = [AUDIO_PATH / f'{idx}.mp3' for idx in target_dict.keys()]\n",
    "        self.files_idx = list(target_dict.keys())\n",
    "        self.target = list(target_dict.values())\n",
    "\n",
    "    def save(self):\n",
    "        with open(DATA_PATH / 'text_sdk.pkl', 'wb') as t_file:\n",
    "            pickle.dump(self.preprocessed_text, t_file)\n",
    "\n",
    "        with open(DATA_PATH / 'video_sdk.pkl', 'wb') as v_file:\n",
    "            pickle.dump(self.video, v_file)\n",
    "\n",
    "        with open(DATA_PATH / 'audio_sdk.pkl', 'wb') as a_file:\n",
    "            pickle.dump(self.audio, a_file)\n",
    "\n",
    "    def __len__(self):\n",
    "        return len(self.language_feats)\n",
    "\n",
    "    def __getitem__(self, index: int) -> Tuple[str, int]:\n",
    "        return self.files_idx[index], self.preprocessed_text[index], self.video[index], self.audio[index], self.target[index]"
   ]
  },
  {
   "cell_type": "code",
   "execution_count": 129,
   "metadata": {},
   "outputs": [],
   "source": [
    "dataset = HumorDataset()"
   ]
  },
  {
   "cell_type": "code",
   "execution_count": 130,
   "metadata": {},
   "outputs": [
    {
     "data": {
      "text/plain": [
       "(3,\n",
       " \" but physics does tell us what particles can be produced. these particles must have just as much mass and energy as is carried in by the proton and. any particles more massive than this energy limit aren't produced and remain invisible to us. this is why this new particle accelerator is so exciting. it's going to push this energy limit seven times beyond what's ever been done before so we're going to get to see some new particles very soon. but before talking about what we might see let me describe the particles we already know of. there's a whole zoo of subatomic particles. most of us are familiar with electrons. a lot of people in this room make a good living pushing them around\",\n",
       " WindowsPath('../data/urfunny2_video/3.mp4'),\n",
       " WindowsPath('../data/urfunny2_audio/3.mp3'),\n",
       " 1)"
      ]
     },
     "execution_count": 130,
     "metadata": {},
     "output_type": "execute_result"
    }
   ],
   "source": [
    "dataset[1]"
   ]
  },
  {
   "cell_type": "code",
   "execution_count": 131,
   "metadata": {},
   "outputs": [],
   "source": [
    "dataset.save()"
   ]
  }
 ],
 "metadata": {
  "kernelspec": {
   "display_name": "Python 3",
   "language": "python",
   "name": "python3"
  },
  "language_info": {
   "codemirror_mode": {
    "name": "ipython",
    "version": 3
   },
   "file_extension": ".py",
   "mimetype": "text/x-python",
   "name": "python",
   "nbconvert_exporter": "python",
   "pygments_lexer": "ipython3",
   "version": "3.9.16"
  },
  "orig_nbformat": 4
 },
 "nbformat": 4,
 "nbformat_minor": 2
}
